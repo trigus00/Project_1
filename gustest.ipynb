{
 "cells": [
  {
   "cell_type": "code",
   "execution_count": null,
   "metadata": {},
   "outputs": [],
   "source": [
    "import pandas as pd\n",
    "from uszipcode import SearchEngine\n",
    "import pandas as pd\n",
    "import requests\n",
    "import json\n",
    "import pprint as pprint\n",
    "from tqdm import tqdm_notebook\n",
    "from config import gkey\n",
    "import gmaps\n",
    "import numpy as np\n",
    "import geopandas as gpd\n",
    "import matplotlib.pyplot as plt\n",
    "import geoplot as gplt\n",
    "import geoplot.crs as gcrs\n",
    "\n",
    "import geopandas as gpd"
   ]
  },
  {
   "cell_type": "code",
   "execution_count": null,
   "metadata": {},
   "outputs": [],
   "source": []
  },
  {
   "cell_type": "code",
   "execution_count": null,
   "metadata": {
    "scrolled": true
   },
   "outputs": [],
   "source": [
    "zip_data = \"Project1_Zipcode_Data.csv\"\n",
    "zip_data_df = pd.read_csv(zip_data, dtype=str, low_memory=False)"
   ]
  },
  {
   "cell_type": "code",
   "execution_count": null,
   "metadata": {},
   "outputs": [],
   "source": [
    "zip_data_df.head()"
   ]
  },
  {
   "cell_type": "code",
   "execution_count": null,
   "metadata": {},
   "outputs": [],
   "source": [
    "zip_data_df[\"Household Income\"]=zip_data_df[\"Household Income\"].astype(float)\n",
    "\n",
    "zip_data_df[\"Population\"]=zip_data_df[\"Population\"].astype(float)\n",
    "zip_data_df[\"Poverty Count\"]=zip_data_df[\"Poverty Count\"].astype(float)\n",
    "\n",
    "zip_data_df[\"Total No HS Diploma\"]=zip_data_df[\"Total No HS Diploma\"].astype(int)\n",
    "zip_data_df[\"No HS Diploma Rate\"]=zip_data_df[\"No HS Diploma Rate\"].astype(float)\n",
    "\n",
    "zip_data_df[\"Total HS Diploma\"]=zip_data_df[\"Total No HS Diploma\"].astype(int)\n",
    "zip_data_df[\"HS Diploma Rate\"]=zip_data_df[\"HS Diploma Rate\"].astype(float)\n",
    "\n",
    "zip_data_df[\"Total Some College\"]=zip_data_df[\"Total Some College\"].astype(int)\n",
    "zip_data_df[\"Some College Rate\"]=zip_data_df[\"Some College Rate\"].astype(float)\n",
    "\n",
    "zip_data_df[\"Total College Degree\"]=zip_data_df[\"Total Some College\"].astype(int)\n",
    "zip_data_df[\"College Degree Rate\"]=zip_data_df[\"Some College Rate\"].astype(float)\n",
    "\n",
    "\n",
    "zip_data_df[\"Total educational attainment over 25\"]=zip_data_df[\"Total educational attainment over 25\"].astype(float)\n",
    "\n",
    "zip_data_df[\"Never Married\"]=zip_data_df[\"Never Married\"].astype(int)\n",
    "zip_data_df[\"Never Married Rate\"]=zip_data_df[\"Never Married Rate\"].astype(float)\n",
    "\n",
    "\n",
    "zip_data_df[\"Married\"]=zip_data_df[\"Married\"].astype(int)\n",
    "zip_data_df[\"Married Rate\"]=zip_data_df[\"Married Rate\"].astype(float)\n",
    "\n",
    "\n",
    "zip_data_df[\"Widowed\"]=zip_data_df[\"Widowed\"].astype(int)\n",
    "zip_data_df[\"Widowed Rate\"]=zip_data_df[\"Widowed Rate\"].astype(float)\n",
    "\n",
    "zip_data_df[\"Divorced\"]=zip_data_df[\"Divorced\"].astype(int)\n",
    "zip_data_df[\"Divorced Rate\"]=zip_data_df[\"Divorced Rate\"].astype(float)\n"
   ]
  },
  {
   "cell_type": "code",
   "execution_count": null,
   "metadata": {},
   "outputs": [],
   "source": [
    "zip_data_df.dtypes"
   ]
  },
  {
   "cell_type": "code",
   "execution_count": null,
   "metadata": {},
   "outputs": [],
   "source": [
    "zip_data_df=zip_data_df.dropna()"
   ]
  },
  {
   "cell_type": "code",
   "execution_count": null,
   "metadata": {},
   "outputs": [],
   "source": []
  },
  {
   "cell_type": "code",
   "execution_count": null,
   "metadata": {},
   "outputs": [],
   "source": [
    "import gmaps.geojson_geometries\n",
    "gmaps.configure(api_key=gkey)\n",
    "\n",
    "gmaps.geojson_geometries.list_geometries()\n",
    "['us-states',\n",
    "'us-counties',\n",
    "'countries-high-resolution']\n",
    "gmaps.geojson_geometries.geometry_metadata('us-states')\n",
    "USA_geojson = gmaps.geojson_geometries.load_geometry('us-states')\n",
    "\n",
    "fig = gmaps.figure()\n",
    "\n",
    "geojson_layer = gmaps.geojson_layer(USA_geojson)\n",
    "fig.add_layer(geojson_layer)\n",
    "fig"
   ]
  },
  {
   "cell_type": "code",
   "execution_count": null,
   "metadata": {},
   "outputs": [],
   "source": []
  },
  {
   "cell_type": "code",
   "execution_count": null,
   "metadata": {},
   "outputs": [],
   "source": [
    "locations = zip_data_df[[\"Lat\",\"Lng\"]].astype(float)\n",
    "\n",
    "# Convert to float and store\n",
    "\n",
    "locations = zip_data_df[[\"Lat\",\"Lng\"]].astype(float)\n",
    "poverty_rate= zip_data_df[\"Poverty Rate\"]\n",
    "#poverty_count = zip_data_df[\"Poverty Count\"]\n",
    "income = zip_data_df[\"Per Capita Income\"]\n",
    "\n",
    "fig = gmaps.figure()\n",
    "\n",
    "#heat_layer = gmaps.heatmap_layer(locations,weights=income,opacity=1,point_radius=2,max_intensity = 100,dissipating = True)\n",
    "heat_layer1 = gmaps.heatmap_layer(locations,weights=poverty_rate,point_radius = 3,max_intensity = 100,dissipating = True)\n",
    "#heat_layer2 = gmaps.heatmap_layer(locations,weights=income ,opacity=.5,point_radius = 5)\n",
    "heat_layer2 = gmaps.heatmap_layer(locations,weights=poverty_rate,point_radius=3,max_intensity = 100)\n",
    "                                \n",
    "\n",
    "\n",
    "\n",
    "#fig.add_layer(heat_layer)\n",
    "fig.add_layer(heat_layer1)\n",
    "\n",
    "fig.add_layer(geojson_layer)\n",
    "\n",
    "fig"
   ]
  },
  {
   "cell_type": "code",
   "execution_count": null,
   "metadata": {},
   "outputs": [],
   "source": [
    "\n",
    "fig.add_layer(heat_layer2)\n",
    "fig.add_layer(geojson_layer)\n",
    "fig"
   ]
  },
  {
   "cell_type": "code",
   "execution_count": null,
   "metadata": {},
   "outputs": [],
   "source": [
    "fp = \"cb_2018_us_zcta510_500k (1)\""
   ]
  },
  {
   "cell_type": "code",
   "execution_count": null,
   "metadata": {},
   "outputs": [],
   "source": [
    "\n"
   ]
  },
  {
   "cell_type": "code",
   "execution_count": null,
   "metadata": {},
   "outputs": [],
   "source": []
  },
  {
   "cell_type": "code",
   "execution_count": null,
   "metadata": {},
   "outputs": [],
   "source": []
  },
  {
   "cell_type": "code",
   "execution_count": null,
   "metadata": {},
   "outputs": [],
   "source": []
  },
  {
   "cell_type": "code",
   "execution_count": null,
   "metadata": {},
   "outputs": [],
   "source": [
    "\n"
   ]
  },
  {
   "cell_type": "code",
   "execution_count": null,
   "metadata": {},
   "outputs": [],
   "source": []
  },
  {
   "cell_type": "code",
   "execution_count": null,
   "metadata": {},
   "outputs": [],
   "source": [
    "\n",
    "\n"
   ]
  },
  {
   "cell_type": "code",
   "execution_count": null,
   "metadata": {},
   "outputs": [],
   "source": []
  },
  {
   "cell_type": "code",
   "execution_count": null,
   "metadata": {},
   "outputs": [],
   "source": []
  },
  {
   "cell_type": "code",
   "execution_count": null,
   "metadata": {},
   "outputs": [],
   "source": [
    "from shapely.geometry import Point\n",
    "\n",
    "collision_points = merged.apply(\n",
    "    lambda srs: Point(float(srs['Lat']), float(srs['Lng'])),\n",
    "    axis='columns'\n",
    ")\n",
    "collision_points"
   ]
  },
  {
   "cell_type": "code",
   "execution_count": null,
   "metadata": {},
   "outputs": [],
   "source": [
    "merged = merged.dropna()\n",
    "\n",
    "\n",
    "merged.dtypes"
   ]
  },
  {
   "cell_type": "code",
   "execution_count": null,
   "metadata": {},
   "outputs": [],
   "source": [
    "contiguous_usa = gpd.read_file(gplt.datasets.get_path('contiguous_usa'))\n",
    "gplt.polyplot(contiguous_usa)"
   ]
  },
  {
   "cell_type": "code",
   "execution_count": null,
   "metadata": {},
   "outputs": [],
   "source": []
  },
  {
   "cell_type": "code",
   "execution_count": null,
   "metadata": {},
   "outputs": [],
   "source": []
  },
  {
   "cell_type": "code",
   "execution_count": null,
   "metadata": {},
   "outputs": [],
   "source": []
  },
  {
   "cell_type": "code",
   "execution_count": null,
   "metadata": {},
   "outputs": [],
   "source": []
  },
  {
   "cell_type": "code",
   "execution_count": null,
   "metadata": {},
   "outputs": [],
   "source": []
  }
 ],
 "metadata": {
  "kernelspec": {
   "display_name": "Python 3",
   "language": "python",
   "name": "python3"
  },
  "language_info": {
   "codemirror_mode": {
    "name": "ipython",
    "version": 3
   },
   "file_extension": ".py",
   "mimetype": "text/x-python",
   "name": "python",
   "nbconvert_exporter": "python",
   "pygments_lexer": "ipython3",
   "version": "3.7.3"
  }
 },
 "nbformat": 4,
 "nbformat_minor": 2
}
