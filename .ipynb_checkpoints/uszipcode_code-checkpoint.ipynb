{
 "cells": [
  {
   "cell_type": "code",
   "execution_count": 26,
   "metadata": {},
   "outputs": [],
   "source": [
    "from uszipcode import SearchEngine\n",
    "import pandas as pd\n",
    "import requests\n",
    "import json\n",
    "import pprint as pprint\n",
    "from tqdm import tqdm_notebook\n",
    "#from config import gkey\n",
    "import gmaps\n"
   ]
  },
  {
   "cell_type": "code",
   "execution_count": 27,
   "metadata": {},
   "outputs": [],
   "source": [
    "Project1_Data = \"Project1_Data.csv\"\n",
    "Project1_Data_df = pd.read_csv(Project1_Data, dtype=str, low_memory=False)"
   ]
  },
  {
   "cell_type": "code",
   "execution_count": 28,
   "metadata": {},
   "outputs": [],
   "source": [
    "#zipcode_df = pd.DataFrame(zipcode)"
   ]
  },
  {
   "cell_type": "code",
   "execution_count": 42,
   "metadata": {},
   "outputs": [],
   "source": [
    "zipcode = Project1_Data_df['Zip Code'].head(500)"
   ]
  },
  {
   "cell_type": "code",
   "execution_count": null,
   "metadata": {},
   "outputs": [],
   "source": []
  },
  {
   "cell_type": "code",
   "execution_count": 30,
   "metadata": {},
   "outputs": [],
   "source": [
    "search = SearchEngine(simple_zipcode=False)\n",
    "result = search.by_zipcode(77406)\n",
    "grab = result.to_dict()"
   ]
  },
  {
   "cell_type": "code",
   "execution_count": 31,
   "metadata": {},
   "outputs": [],
   "source": [
    "#grab['educational_attainment_for_population_25_and_over'][0]['values'][0]['y']"
   ]
  },
  {
   "cell_type": "code",
   "execution_count": 32,
   "metadata": {},
   "outputs": [
    {
     "ename": "SyntaxError",
     "evalue": "invalid syntax (<ipython-input-32-22c4da9c7a41>, line 2)",
     "output_type": "error",
     "traceback": [
      "\u001b[1;36m  File \u001b[1;32m\"<ipython-input-32-22c4da9c7a41>\"\u001b[1;36m, line \u001b[1;32m2\u001b[0m\n\u001b[1;33m    'Associate\\'s Degree' : 23, 'Bachelor\\'s Degree' : 23, 'Master\\'s Degree' : 345, 'Professional School Degree' : 23, 'Doctorate Degree' : 34, 'Total Degrees' : 23}\u001b[0m\n\u001b[1;37m                        ^\u001b[0m\n\u001b[1;31mSyntaxError\u001b[0m\u001b[1;31m:\u001b[0m invalid syntax\n"
     ]
    }
   ],
   "source": [
    "zipcode_dict = {'City' : 'major_city', 'Lat' : 2, 'Lng' : 3, 'Median Income' : 34, 'Population' : 12, 'Less Than High School Diploma' : 23, 'High School Graduate' : 34\\\n",
    "               'Associate\\'s Degree' : 23, 'Bachelor\\'s Degree' : 23, 'Master\\'s Degree' : 345, 'Professional School Degree' : 23, 'Doctorate Degree' : 34, 'Total Degrees' : 23}"
   ]
  },
  {
   "cell_type": "code",
   "execution_count": 33,
   "metadata": {},
   "outputs": [
    {
     "data": {
      "text/plain": [
       "[{'key': 'Data',\n",
       "  'values': [{'x': 'Less Than High School Diploma', 'y': 1577},\n",
       "   {'x': 'High School Graduate', 'y': 10530},\n",
       "   {'x': \"Associate's Degree\", 'y': 1903},\n",
       "   {'x': \"Bachelor's Degree\", 'y': 6928},\n",
       "   {'x': \"Master's Degree\", 'y': 2269},\n",
       "   {'x': 'Professional School Degree', 'y': 460},\n",
       "   {'x': 'Doctorate Degree', 'y': 253}]}]"
      ]
     },
     "execution_count": 33,
     "metadata": {},
     "output_type": "execute_result"
    }
   ],
   "source": [
    "grab['educational_attainment_for_population_25_and_over']"
   ]
  },
  {
   "cell_type": "code",
   "execution_count": 34,
   "metadata": {},
   "outputs": [],
   "source": [
    "#b[0]['values'][6]['y']+b[0]['values'][5]['y']"
   ]
  },
  {
   "cell_type": "code",
   "execution_count": 35,
   "metadata": {},
   "outputs": [],
   "source": [
    "#grab['educational_attainment_for_population_25_and_over'][0]['values'][6]"
   ]
  },
  {
   "cell_type": "code",
   "execution_count": 50,
   "metadata": {
    "scrolled": true
   },
   "outputs": [
    {
     "data": {
      "application/vnd.jupyter.widget-view+json": {
       "model_id": "8c805c44530042e59b629ea08f10ac84",
       "version_major": 2,
       "version_minor": 0
      },
      "text/plain": [
       "HBox(children=(IntProgress(value=0, max=500), HTML(value='')))"
      ]
     },
     "metadata": {},
     "output_type": "display_data"
    },
    {
     "ename": "TypeError",
     "evalue": "'NoneType' object is not subscriptable",
     "output_type": "error",
     "traceback": [
      "\u001b[1;31m---------------------------------------------------------------------------\u001b[0m",
      "\u001b[1;31mTypeError\u001b[0m                                 Traceback (most recent call last)",
      "\u001b[1;32m<ipython-input-50-5b08804e020c>\u001b[0m in \u001b[0;36m<module>\u001b[1;34m\u001b[0m\n\u001b[0;32m     20\u001b[0m             \u001b[1;31m#'Professional School Degree' : 23,\u001b[0m\u001b[1;33m\u001b[0m\u001b[1;33m\u001b[0m\u001b[1;33m\u001b[0m\u001b[0m\n\u001b[0;32m     21\u001b[0m             \u001b[1;31m#'Doctorate Degree' : 34,\u001b[0m\u001b[1;33m\u001b[0m\u001b[1;33m\u001b[0m\u001b[1;33m\u001b[0m\u001b[0m\n\u001b[1;32m---> 22\u001b[1;33m             \u001b[1;34m'Total Degrees'\u001b[0m \u001b[1;33m:\u001b[0m \u001b[0mresult\u001b[0m\u001b[1;33m[\u001b[0m\u001b[1;34m'educational_attainment_for_population_25_and_over'\u001b[0m\u001b[1;33m]\u001b[0m\u001b[1;33m[\u001b[0m\u001b[1;36m0\u001b[0m\u001b[1;33m]\u001b[0m\u001b[1;33m[\u001b[0m\u001b[1;34m'values'\u001b[0m\u001b[1;33m]\u001b[0m\u001b[1;33m[\u001b[0m\u001b[1;36m2\u001b[0m\u001b[1;33m]\u001b[0m\u001b[1;33m[\u001b[0m\u001b[1;34m'y'\u001b[0m\u001b[1;33m]\u001b[0m\u001b[1;33m\u001b[0m\u001b[1;33m\u001b[0m\u001b[0m\n\u001b[0m\u001b[0;32m     23\u001b[0m                               \u001b[1;31m#result['educational_attainment_for_population_25_and_over'][0]['values'][3]['y']+\u001b[0m\u001b[1;33m\u001b[0m\u001b[1;33m\u001b[0m\u001b[1;33m\u001b[0m\u001b[0m\n\u001b[0;32m     24\u001b[0m                               \u001b[1;31m#result['educational_attainment_for_population_25_and_over'][0]['values'][4]['y']+\u001b[0m\u001b[1;33m\u001b[0m\u001b[1;33m\u001b[0m\u001b[1;33m\u001b[0m\u001b[0m\n",
      "\u001b[1;31mTypeError\u001b[0m: 'NoneType' object is not subscriptable"
     ]
    }
   ],
   "source": [
    "#b = result['educational_attainment_for_population_25_and_over']\n",
    "data_list = []\n",
    "for zip_ in tqdm_notebook(zipcode): \n",
    "    result = search.by_zipcode(zip_).to_dict()\n",
    "    #print(result['educational_attainment_for_population_25_and_over'][0]['values'][2]['y'])\n",
    "    #a = 0\n",
    "    #for deg in result['educational_attainment_for_population_25_and_over']:\n",
    "        #a = a + deg[0]['values'][2]['y']+deg[0]['values'][3]['y']+deg[0]['values'][4]['y']+deg[0]['values'][5]['y']+deg[0]['values'][6]['y']\n",
    "    data_list.append({'Zip_Code': zip_,\n",
    "            'City' : result['major_city'],\n",
    "            'Lat' : result['lat'],\n",
    "            'Lng' : result['lng'],\n",
    "            'Median Income' : result['median_household_income'],\n",
    "            'Population' : result['population'],\n",
    "            #'Less Than High School Diploma' : 23,\n",
    "            #'High School Graduate' : 34,\n",
    "            #'Associate\\'s Degree' : 23,\n",
    "            #'Bachelor\\'s Degree' : 23,\n",
    "            #'Master\\'s Degree' : 345,\n",
    "            #'Professional School Degree' : 23,\n",
    "            #'Doctorate Degree' : 34,\n",
    "            'Total Degrees' : result['educational_attainment_for_population_25_and_over'][0]['values'][2]['y']\n",
    "                              #result['educational_attainment_for_population_25_and_over'][0]['values'][3]['y']+\n",
    "                              #result['educational_attainment_for_population_25_and_over'][0]['values'][4]['y']+\n",
    "                              #result['educational_attainment_for_population_25_and_over'][0]['values'][5]['y']+\n",
    "                              #result['educational_attainment_for_population_25_and_over'][0]['values'][6]['y']\n",
    "            })"
   ]
  },
  {
   "cell_type": "raw",
   "metadata": {},
   "source": []
  },
  {
   "cell_type": "code",
   "execution_count": null,
   "metadata": {},
   "outputs": [],
   "source": []
  },
  {
   "cell_type": "code",
   "execution_count": null,
   "metadata": {},
   "outputs": [],
   "source": [
    "#test = result[1].to_dict()"
   ]
  },
  {
   "cell_type": "code",
   "execution_count": null,
   "metadata": {},
   "outputs": [],
   "source": [
    "#test"
   ]
  },
  {
   "cell_type": "code",
   "execution_count": null,
   "metadata": {},
   "outputs": [],
   "source": []
  },
  {
   "cell_type": "code",
   "execution_count": null,
   "metadata": {},
   "outputs": [],
   "source": []
  },
  {
   "cell_type": "code",
   "execution_count": null,
   "metadata": {},
   "outputs": [],
   "source": [
    "#zipcode_df = zipcode_df.head(500)"
   ]
  },
  {
   "cell_type": "code",
   "execution_count": null,
   "metadata": {},
   "outputs": [],
   "source": [
    "zipcode_df['City'] = ''\n",
    "zipcode_df['Lat'] = ''\n",
    "zipcode_df['Lng'] = ''\n",
    "zipcode_df['Median Income'] = ''\n",
    "zipcode_df['Population'] = ''\n",
    "zipcode_df['Less Than High School Diploma'] = ''\n",
    "zipcode_df['High School Graduate'] = ''\n",
    "zipcode_df['Associate\\'s Degree'] = ''\n",
    "zipcode_df['Bachelor\\'s Degree'] = ''\n",
    "zipcode_df['Master\\'s Degree'] = ''\n",
    "zipcode_df['Professional School Degree'] = ''\n",
    "zipcode_df['Doctorate Degree'] = ''\n",
    "zipcode_df['Total Degrees'] = ''"
   ]
  },
  {
   "cell_type": "code",
   "execution_count": null,
   "metadata": {},
   "outputs": [],
   "source": []
  },
  {
   "cell_type": "code",
   "execution_count": null,
   "metadata": {},
   "outputs": [],
   "source": []
  },
  {
   "cell_type": "code",
   "execution_count": null,
   "metadata": {},
   "outputs": [],
   "source": []
  },
  {
   "cell_type": "code",
   "execution_count": null,
   "metadata": {},
   "outputs": [],
   "source": []
  },
  {
   "cell_type": "code",
   "execution_count": null,
   "metadata": {},
   "outputs": [],
   "source": [
    "zipcode_df.head()"
   ]
  },
  {
   "cell_type": "code",
   "execution_count": null,
   "metadata": {},
   "outputs": [],
   "source": [
    "zipcode_df"
   ]
  },
  {
   "cell_type": "code",
   "execution_count": null,
   "metadata": {},
   "outputs": [],
   "source": []
  },
  {
   "cell_type": "code",
   "execution_count": null,
   "metadata": {},
   "outputs": [],
   "source": [
    "search = SearchEngine(simple_zipcode=False)\n",
    "for index, row in tqdm_notebook(list(zipcode_df.iterrows())):\n",
    "    zipc = row['Zip Code'] \n",
    "    result = search.by_zipcode(zipc)\n",
    "    grab = result.to_dict()\n",
    "    zipcode_df.loc[index, 'City'] = grab['major_city']\n",
    "    zipcode_df.loc[index, 'Lng'] = grab['lng']\n",
    "    zipcode_df.loc[index, 'Lat'] = grab['lat']\n",
    "    zipcode_df.loc[index, 'Median Income'] = grab['median_household_income']\n",
    "    zipcode_df.loc[index, 'Population'] = grab['population']\n",
    "    hold = grab['educational_attainment_for_population_25_and_over']\n",
    "    \n",
    "    try:\n",
    "        zipcode_df.loc[index, 'Less Than High School Diploma'] = [d.get('values') for d in hold][0][0]['y']\n",
    "        zipcode_df.loc[index, 'High School Graduate'] = [d.get('values') for d in hold][0][1]['y']\n",
    "        zipcode_df.loc[index, 'Associate\\'s Degree'] = [d.get('values') for d in hold][0][2]['y']\n",
    "        zipcode_df.loc[index, 'Bachelor\\'s Degree'] = [d.get('values') for d in hold][0][3]['y']\n",
    "        zipcode_df.loc[index, 'Master\\'s Degree'] = [d.get('values') for d in hold][0][4]['y']\n",
    "        zipcode_df.loc[index, 'Professional School Degree'] = [d.get('values') for d in hold][0][5]['y']\n",
    "        zipcode_df.loc[index, 'Doctorate Degree'] = [d.get('values') for d in hold][0][6]['y']\n",
    "        zipcode_df.loc[index, 'Total Degrees'] = ([d.get('values') for d in hold][0][2]['y'] + [d.get('values') for d in hold][0][3]['y'] +\\\n",
    "                                                 [d.get('values') for d in hold][0][4]['y'] + [d.get('values') for d in hold][0][5]['y'] +\\\n",
    "                                                 [d.get('values') for d in hold][0][6]['y'])\n",
    "\n",
    "    except (TypeError):\n",
    "        zipcode_df.loc[index, 'Less Than High School Diploma'] = 0\n",
    "        zipcode_df.loc[index, 'High School Graduate'] = 0\n",
    "        zipcode_df.loc[index, 'Associate\\'s Degree'] = 0\n",
    "        zipcode_df.loc[index, 'Bachelor\\'s Degree'] = 0\n",
    "        zipcode_df.loc[index, 'Master\\'s Degree'] = 0\n",
    "        zipcode_df.loc[index, 'Professional School Degree'] = 0\n",
    "        zipcode_df.loc[index, 'Doctorate Degree'] = 0"
   ]
  },
  {
   "cell_type": "code",
   "execution_count": null,
   "metadata": {},
   "outputs": [],
   "source": [
    "zipcode_df"
   ]
  },
  {
   "cell_type": "code",
   "execution_count": null,
   "metadata": {},
   "outputs": [],
   "source": [
    "zipcode_df.to_csv('Project1_Zipcode_Data.csv', index=False)"
   ]
  },
  {
   "cell_type": "code",
   "execution_count": null,
   "metadata": {},
   "outputs": [],
   "source": [
    "# For new visuals code can be started from here, consider making this a new notebook."
   ]
  },
  {
   "cell_type": "code",
   "execution_count": null,
   "metadata": {},
   "outputs": [],
   "source": []
  },
  {
   "cell_type": "code",
   "execution_count": null,
   "metadata": {},
   "outputs": [],
   "source": [
    "zipcode_Data = \"Project1_Zipcode_Data.csv\"\n",
    "zipcode_df = pd.read_csv(zipcode_Data, dtype=str, low_memory=False)"
   ]
  },
  {
   "cell_type": "code",
   "execution_count": null,
   "metadata": {},
   "outputs": [],
   "source": [
    "#generating map \n",
    "\n",
    "gmaps.configure(api_key=gkey)"
   ]
  },
  {
   "cell_type": "code",
   "execution_count": null,
   "metadata": {},
   "outputs": [],
   "source": [
    "zipcode_clean_df = zipcode_df.dropna()"
   ]
  },
  {
   "cell_type": "code",
   "execution_count": null,
   "metadata": {
    "scrolled": true
   },
   "outputs": [],
   "source": [
    "zipcode_clean_df"
   ]
  },
  {
   "cell_type": "code",
   "execution_count": null,
   "metadata": {},
   "outputs": [],
   "source": [
    "locations = zipcode_clean_df[[\"Lat\",\"Lng\"]].astype(float)\n",
    "\n",
    "# Convert to float and store\n",
    "\n",
    "locations = zipcode_clean_df[[\"Lat\",\"Lng\"]].astype(float)\n",
    "median = zipcode_clean_df[\"Median Income\"].astype(float)\n",
    "LHSG = zipcode_clean_df[\"Less Than High School Diploma\"].astype(int)\n",
    "HSG = zipcode_clean_df[\"High School Graduate\"].astype(int)\n",
    "AD = zipcode_clean_df[\"Associate's Degree\"].astype(int)\n",
    "\n",
    "fig = gmaps.figure()\n",
    "\n",
    "heat_layer = gmaps.heatmap_layer(locations,weights=median,opacity=.5)\n",
    "heat_layer1 = gmaps.heatmap_layer(locations,weights=HSG,opacity=.1,max_intensity = 10,point_radius = 2)\n",
    "heat_layer2 = gmaps.heatmap_layer(locations,weights=LHSG,opacity=.1,max_intensity = 10,point_radius = 2)\n",
    "heat_layer3 = gmaps.heatmap_layer(locations,weights=AD,opacity=.1,max_intensity = 10,point_radius = 2)                            \n",
    "\n",
    "fig.add_layer(heat_layer)\n",
    "fig"
   ]
  },
  {
   "cell_type": "code",
   "execution_count": null,
   "metadata": {},
   "outputs": [],
   "source": [
    "locations = zipcode_clean_df[[\"Lat\",\"Lng\"]].astype(float)\n",
    "\n",
    "# Convert to float and store\n",
    "\n",
    "locations = zipcode_clean_df[[\"Lat\",\"Lng\"]].astype(float)\n",
    "median = zipcode_clean_df[\"Total Degrees\"].astype(float)\n",
    "\n",
    "fig = gmaps.figure()\n",
    "\n",
    "heat_layer = gmaps.heatmap_layer(locations,weights=median)\n",
    "\n",
    "fig.add_layer(heat_layer)\n",
    "fig"
   ]
  },
  {
   "cell_type": "code",
   "execution_count": null,
   "metadata": {},
   "outputs": [],
   "source": []
  },
  {
   "cell_type": "code",
   "execution_count": null,
   "metadata": {},
   "outputs": [],
   "source": []
  }
 ],
 "metadata": {
  "kernelspec": {
   "display_name": "Python 3",
   "language": "python",
   "name": "python3"
  },
  "language_info": {
   "codemirror_mode": {
    "name": "ipython",
    "version": 3
   },
   "file_extension": ".py",
   "mimetype": "text/x-python",
   "name": "python",
   "nbconvert_exporter": "python",
   "pygments_lexer": "ipython3",
   "version": "3.7.3"
  }
 },
 "nbformat": 4,
 "nbformat_minor": 2
}
