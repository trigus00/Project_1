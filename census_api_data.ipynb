{
 "cells": [
  {
   "cell_type": "code",
   "execution_count": 1,
   "metadata": {},
   "outputs": [],
   "source": [
    "# Dependencies\n",
    "import numpy as np\n",
    "import pandas as pd\n",
    "import matplotlib.pyplot as plt\n",
    "import requests\n",
    "from census import Census\n",
    "\n",
    "# Census API Key\n",
    "from config import api_key\n",
    "c = Census(api_key, year=2013)"
   ]
  },
  {
   "cell_type": "code",
   "execution_count": 6,
   "metadata": {},
   "outputs": [
    {
     "name": "stdout",
     "output_type": "stream",
     "text": [
      "33120\n"
     ]
    }
   ],
   "source": [
    "# Run Census Search to retrieve data on all zip codes (2013 ACS5 Census)\n",
    "# See: https://github.com/CommerceDataService/census-wrapper for library documentation\n",
    "# See: https://gist.github.com/afhaque/60558290d6efd892351c4b64e5c01e9b for labels\n",
    "census_data = c.acs5.get((\"NAME\", \"B19013_001E\", \"B01003_001E\", \"B01002_001E\",\n",
    "                          \"B19301_001E\",\n",
    "                          \"B17001_002E\",\"B15003_021E\", \"B15003_022E\", \"B15003_023E\", \"B15003_024E\", \"B15003_025E\"), {'for': 'zip code tabulation area:*'})\n",
    "\n",
    "# Convert to DataFrame\n",
    "census_pd = pd.DataFrame(census_data)\n",
    "\n",
    "# Column Reordering\n",
    "census_pd = census_pd.rename(columns={\"B01003_001E\": \"Population\",\n",
    "                                      \"B01002_001E\": \"Median Age\",\n",
    "                                      \"B19013_001E\": \"Household Income\",\n",
    "                                      \"B19301_001E\": \"Per Capita Income\",\n",
    "                                      \"B17001_002E\": \"Poverty Count\",\n",
    "                                      \"NAME\": \"Name\", \"zip code tabulation area\": \"Zipcode\",\n",
    "                                      \"B15003_021E\" : \"Associate's degree\"})\n",
    "\n",
    "# Add in Poverty Rate (Poverty Count / Population)\n",
    "census_pd[\"Poverty Rate\"] = 100 * \\\n",
    "    census_pd[\"Poverty Count\"].astype(\n",
    "        int) / census_pd[\"Population\"].astype(int)\n",
    "\n",
    "# Final DataFrame\n",
    "census_pd = census_pd[[\"Zipcode\", \"Population\", \"Median Age\", \"Household Income\",\n",
    "                       \"Per Capita Income\", \"Poverty Count\", \"Poverty Rate\", \"Associate's degree\"]]\n",
    "\n",
    "# Visualize\n",
    "print(len(census_pd))"
   ]
  },
  {
   "cell_type": "code",
   "execution_count": 7,
   "metadata": {},
   "outputs": [
    {
     "data": {
      "text/html": [
       "<div>\n",
       "<style scoped>\n",
       "    .dataframe tbody tr th:only-of-type {\n",
       "        vertical-align: middle;\n",
       "    }\n",
       "\n",
       "    .dataframe tbody tr th {\n",
       "        vertical-align: top;\n",
       "    }\n",
       "\n",
       "    .dataframe thead th {\n",
       "        text-align: right;\n",
       "    }\n",
       "</style>\n",
       "<table border=\"1\" class=\"dataframe\">\n",
       "  <thead>\n",
       "    <tr style=\"text-align: right;\">\n",
       "      <th></th>\n",
       "      <th>Zipcode</th>\n",
       "      <th>Population</th>\n",
       "      <th>Median Age</th>\n",
       "      <th>Household Income</th>\n",
       "      <th>Per Capita Income</th>\n",
       "      <th>Poverty Count</th>\n",
       "      <th>Poverty Rate</th>\n",
       "      <th>Associate's degree</th>\n",
       "    </tr>\n",
       "  </thead>\n",
       "  <tbody>\n",
       "    <tr>\n",
       "      <th>984</th>\n",
       "      <td>00601</td>\n",
       "      <td>18450.0</td>\n",
       "      <td>36.6</td>\n",
       "      <td>12041.0</td>\n",
       "      <td>7380.0</td>\n",
       "      <td>10816.0</td>\n",
       "      <td>58.623306</td>\n",
       "      <td>1027.0</td>\n",
       "    </tr>\n",
       "    <tr>\n",
       "      <th>985</th>\n",
       "      <td>00602</td>\n",
       "      <td>41302.0</td>\n",
       "      <td>38.6</td>\n",
       "      <td>15663.0</td>\n",
       "      <td>8463.0</td>\n",
       "      <td>22409.0</td>\n",
       "      <td>54.256452</td>\n",
       "      <td>3677.0</td>\n",
       "    </tr>\n",
       "    <tr>\n",
       "      <th>986</th>\n",
       "      <td>00603</td>\n",
       "      <td>53683.0</td>\n",
       "      <td>38.9</td>\n",
       "      <td>15485.0</td>\n",
       "      <td>9176.0</td>\n",
       "      <td>26220.0</td>\n",
       "      <td>48.842278</td>\n",
       "      <td>3101.0</td>\n",
       "    </tr>\n",
       "    <tr>\n",
       "      <th>987</th>\n",
       "      <td>00606</td>\n",
       "      <td>6591.0</td>\n",
       "      <td>37.3</td>\n",
       "      <td>15019.0</td>\n",
       "      <td>6383.0</td>\n",
       "      <td>3721.0</td>\n",
       "      <td>56.455773</td>\n",
       "      <td>79.0</td>\n",
       "    </tr>\n",
       "    <tr>\n",
       "      <th>988</th>\n",
       "      <td>00610</td>\n",
       "      <td>28963.0</td>\n",
       "      <td>39.2</td>\n",
       "      <td>16707.0</td>\n",
       "      <td>7892.0</td>\n",
       "      <td>14569.0</td>\n",
       "      <td>50.302110</td>\n",
       "      <td>1062.0</td>\n",
       "    </tr>\n",
       "  </tbody>\n",
       "</table>\n",
       "</div>"
      ],
      "text/plain": [
       "    Zipcode  Population  Median Age  Household Income  Per Capita Income  \\\n",
       "984   00601     18450.0        36.6           12041.0             7380.0   \n",
       "985   00602     41302.0        38.6           15663.0             8463.0   \n",
       "986   00603     53683.0        38.9           15485.0             9176.0   \n",
       "987   00606      6591.0        37.3           15019.0             6383.0   \n",
       "988   00610     28963.0        39.2           16707.0             7892.0   \n",
       "\n",
       "     Poverty Count  Poverty Rate  Associate's degree  \n",
       "984        10816.0     58.623306              1027.0  \n",
       "985        22409.0     54.256452              3677.0  \n",
       "986        26220.0     48.842278              3101.0  \n",
       "987         3721.0     56.455773                79.0  \n",
       "988        14569.0     50.302110              1062.0  "
      ]
     },
     "execution_count": 7,
     "metadata": {},
     "output_type": "execute_result"
    }
   ],
   "source": [
    "census_pd.sort_values(by='Zipcode', ascending=True).head()"
   ]
  },
  {
   "cell_type": "code",
   "execution_count": null,
   "metadata": {},
   "outputs": [],
   "source": []
  }
 ],
 "metadata": {
  "kernelspec": {
   "display_name": "Python 3",
   "language": "python",
   "name": "python3"
  },
  "language_info": {
   "codemirror_mode": {
    "name": "ipython",
    "version": 3
   },
   "file_extension": ".py",
   "mimetype": "text/x-python",
   "name": "python",
   "nbconvert_exporter": "python",
   "pygments_lexer": "ipython3",
   "version": "3.7.3"
  }
 },
 "nbformat": 4,
 "nbformat_minor": 2
}
