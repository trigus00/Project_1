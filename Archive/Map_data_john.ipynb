{
 "cells": [
  {
   "cell_type": "code",
   "execution_count": 1,
   "metadata": {},
   "outputs": [],
   "source": [
    "import pandas as pd\n",
    "from uszipcode import SearchEngine\n",
    "import pandas as pd\n",
    "import requests\n",
    "import json\n",
    "import pprint as pprint\n",
    "from tqdm import tqdm_notebook\n",
    "from config import gkey\n",
    "import gmaps\n",
    "import numpy as np\n",
    "import geopandas as gpd\n",
    "import matplotlib.pyplot as plt\n",
    "import geoplot as gplt\n",
    "import geoplot.crs as gcrs\n",
    "\n",
    "import geopandas as gpd"
   ]
  },
  {
   "cell_type": "code",
   "execution_count": null,
   "metadata": {},
   "outputs": [],
   "source": []
  },
  {
   "cell_type": "code",
   "execution_count": 2,
   "metadata": {
    "scrolled": true
   },
   "outputs": [],
   "source": [
    "zip_data = \"Project1_Zipcode_Data.csv\"\n",
    "zip_data_df = pd.read_csv(zip_data, dtype=str, low_memory=False)"
   ]
  },
  {
   "cell_type": "code",
   "execution_count": 3,
   "metadata": {},
   "outputs": [
    {
     "data": {
      "text/html": [
       "<div>\n",
       "<style scoped>\n",
       "    .dataframe tbody tr th:only-of-type {\n",
       "        vertical-align: middle;\n",
       "    }\n",
       "\n",
       "    .dataframe tbody tr th {\n",
       "        vertical-align: top;\n",
       "    }\n",
       "\n",
       "    .dataframe thead th {\n",
       "        text-align: right;\n",
       "    }\n",
       "</style>\n",
       "<table border=\"1\" class=\"dataframe\">\n",
       "  <thead>\n",
       "    <tr style=\"text-align: right;\">\n",
       "      <th></th>\n",
       "      <th>Zip Code</th>\n",
       "      <th>Population</th>\n",
       "      <th>Median Age</th>\n",
       "      <th>Household Income</th>\n",
       "      <th>Per Capita Income</th>\n",
       "      <th>Poverty Count</th>\n",
       "      <th>Poverty Rate</th>\n",
       "      <th>Total No HS Diploma</th>\n",
       "      <th>No High School Diploma Rate</th>\n",
       "      <th>Total HS Diploma</th>\n",
       "      <th>...</th>\n",
       "      <th>Widowed</th>\n",
       "      <th>Widowed Rate</th>\n",
       "      <th>Divorced</th>\n",
       "      <th>Divorced Rate</th>\n",
       "      <th>Over 15 Marital Status</th>\n",
       "      <th>lat</th>\n",
       "      <th>lng</th>\n",
       "      <th>city</th>\n",
       "      <th>state_id</th>\n",
       "      <th>state_name</th>\n",
       "    </tr>\n",
       "  </thead>\n",
       "  <tbody>\n",
       "    <tr>\n",
       "      <th>0</th>\n",
       "      <td>01001</td>\n",
       "      <td>17537.0</td>\n",
       "      <td>45.8</td>\n",
       "      <td>57694.0</td>\n",
       "      <td>33135.0</td>\n",
       "      <td>1557.0</td>\n",
       "      <td>8.878371443234304</td>\n",
       "      <td>1167</td>\n",
       "      <td>8.736337775116034</td>\n",
       "      <td>3779</td>\n",
       "      <td>...</td>\n",
       "      <td>1425</td>\n",
       "      <td>9.554140127388536</td>\n",
       "      <td>2036</td>\n",
       "      <td>13.650687227623198</td>\n",
       "      <td>14915.0</td>\n",
       "      <td>42.06258</td>\n",
       "      <td>-72.6259</td>\n",
       "      <td>Agawam</td>\n",
       "      <td>MA</td>\n",
       "      <td>Massachusetts</td>\n",
       "    </tr>\n",
       "    <tr>\n",
       "      <th>1</th>\n",
       "      <td>01002</td>\n",
       "      <td>30280.0</td>\n",
       "      <td>23.6</td>\n",
       "      <td>52379.0</td>\n",
       "      <td>27657.0</td>\n",
       "      <td>7851.0</td>\n",
       "      <td>25.928005284015853</td>\n",
       "      <td>633</td>\n",
       "      <td>4.591281642126641</td>\n",
       "      <td>1684</td>\n",
       "      <td>...</td>\n",
       "      <td>846</td>\n",
       "      <td>3.112468268275634</td>\n",
       "      <td>1478</td>\n",
       "      <td>5.437621868216769</td>\n",
       "      <td>27181.0</td>\n",
       "      <td>42.37492</td>\n",
       "      <td>-72.4621</td>\n",
       "      <td>Amherst</td>\n",
       "      <td>MA</td>\n",
       "      <td>Massachusetts</td>\n",
       "    </tr>\n",
       "    <tr>\n",
       "      <th>2</th>\n",
       "      <td>01003</td>\n",
       "      <td>11131.0</td>\n",
       "      <td>19.9</td>\n",
       "      <td>2499.0</td>\n",
       "      <td>4370.0</td>\n",
       "      <td>57.0</td>\n",
       "      <td>0.5120833707663283</td>\n",
       "      <td>26</td>\n",
       "      <td>19.11764705882353</td>\n",
       "      <td>13</td>\n",
       "      <td>...</td>\n",
       "      <td>0</td>\n",
       "      <td>0.0</td>\n",
       "      <td>10</td>\n",
       "      <td>0.0898391878537418</td>\n",
       "      <td>11131.0</td>\n",
       "      <td>42.39192</td>\n",
       "      <td>-72.52479</td>\n",
       "      <td>Amherst</td>\n",
       "      <td>MA</td>\n",
       "      <td>Massachusetts</td>\n",
       "    </tr>\n",
       "    <tr>\n",
       "      <th>3</th>\n",
       "      <td>01005</td>\n",
       "      <td>5014.0</td>\n",
       "      <td>45.4</td>\n",
       "      <td>70325.0</td>\n",
       "      <td>35334.0</td>\n",
       "      <td>307.0</td>\n",
       "      <td>6.122856003191065</td>\n",
       "      <td>123</td>\n",
       "      <td>3.516295025728988</td>\n",
       "      <td>1270</td>\n",
       "      <td>...</td>\n",
       "      <td>134</td>\n",
       "      <td>3.152941176470588</td>\n",
       "      <td>764</td>\n",
       "      <td>17.976470588235294</td>\n",
       "      <td>4250.0</td>\n",
       "      <td>42.42018</td>\n",
       "      <td>-72.10615</td>\n",
       "      <td>Barre</td>\n",
       "      <td>MA</td>\n",
       "      <td>Massachusetts</td>\n",
       "    </tr>\n",
       "    <tr>\n",
       "      <th>4</th>\n",
       "      <td>01007</td>\n",
       "      <td>14906.0</td>\n",
       "      <td>43.8</td>\n",
       "      <td>86165.0</td>\n",
       "      <td>39308.0</td>\n",
       "      <td>855.0</td>\n",
       "      <td>5.735945256943513</td>\n",
       "      <td>644</td>\n",
       "      <td>6.400318028225005</td>\n",
       "      <td>2407</td>\n",
       "      <td>...</td>\n",
       "      <td>442</td>\n",
       "      <td>3.5862068965517238</td>\n",
       "      <td>1331</td>\n",
       "      <td>10.79918864097363</td>\n",
       "      <td>12325.0</td>\n",
       "      <td>42.27875</td>\n",
       "      <td>-72.40036</td>\n",
       "      <td>Belchertown</td>\n",
       "      <td>MA</td>\n",
       "      <td>Massachusetts</td>\n",
       "    </tr>\n",
       "  </tbody>\n",
       "</table>\n",
       "<p>5 rows × 30 columns</p>\n",
       "</div>"
      ],
      "text/plain": [
       "  Zip Code Population Median Age Household Income Per Capita Income  \\\n",
       "0    01001    17537.0       45.8          57694.0           33135.0   \n",
       "1    01002    30280.0       23.6          52379.0           27657.0   \n",
       "2    01003    11131.0       19.9           2499.0            4370.0   \n",
       "3    01005     5014.0       45.4          70325.0           35334.0   \n",
       "4    01007    14906.0       43.8          86165.0           39308.0   \n",
       "\n",
       "  Poverty Count        Poverty Rate Total No HS Diploma  \\\n",
       "0        1557.0   8.878371443234304                1167   \n",
       "1        7851.0  25.928005284015853                 633   \n",
       "2          57.0  0.5120833707663283                  26   \n",
       "3         307.0   6.122856003191065                 123   \n",
       "4         855.0   5.735945256943513                 644   \n",
       "\n",
       "  No High School Diploma Rate Total HS Diploma  ... Widowed  \\\n",
       "0           8.736337775116034             3779  ...    1425   \n",
       "1           4.591281642126641             1684  ...     846   \n",
       "2           19.11764705882353               13  ...       0   \n",
       "3           3.516295025728988             1270  ...     134   \n",
       "4           6.400318028225005             2407  ...     442   \n",
       "\n",
       "         Widowed Rate Divorced       Divorced Rate Over 15 Marital Status  \\\n",
       "0   9.554140127388536     2036  13.650687227623198                14915.0   \n",
       "1   3.112468268275634     1478   5.437621868216769                27181.0   \n",
       "2                 0.0       10  0.0898391878537418                11131.0   \n",
       "3   3.152941176470588      764  17.976470588235294                 4250.0   \n",
       "4  3.5862068965517238     1331   10.79918864097363                12325.0   \n",
       "\n",
       "        lat        lng         city state_id     state_name  \n",
       "0  42.06258   -72.6259       Agawam       MA  Massachusetts  \n",
       "1  42.37492   -72.4621      Amherst       MA  Massachusetts  \n",
       "2  42.39192  -72.52479      Amherst       MA  Massachusetts  \n",
       "3  42.42018  -72.10615        Barre       MA  Massachusetts  \n",
       "4  42.27875  -72.40036  Belchertown       MA  Massachusetts  \n",
       "\n",
       "[5 rows x 30 columns]"
      ]
     },
     "execution_count": 3,
     "metadata": {},
     "output_type": "execute_result"
    }
   ],
   "source": [
    "zip_data_df.head()"
   ]
  },
  {
   "cell_type": "code",
   "execution_count": 4,
   "metadata": {},
   "outputs": [],
   "source": [
    "zip_data_df[\"Household Income\"]=zip_data_df[\"Household Income\"].astype(float)\n",
    "\n",
    "zip_data_df[\"Population\"]=zip_data_df[\"Population\"].astype(float)\n",
    "zip_data_df[\"Poverty Count\"]=zip_data_df[\"Poverty Count\"].astype(float)\n",
    "\n",
    "zip_data_df[\"Total No HS Diploma\"]=zip_data_df[\"Total No HS Diploma\"].astype(int)\n",
    "zip_data_df[\"No High School Diploma Rate\"]=zip_data_df[\"No High School Diploma Rate\"].astype(float)\n",
    "\n",
    "zip_data_df[\"Total HS Diploma\"]=zip_data_df[\"Total No HS Diploma\"].astype(int)\n",
    "zip_data_df[\"HS Diploma Rate\"]=zip_data_df[\"HS Diploma Rate\"].astype(float)\n",
    "\n",
    "zip_data_df[\"Total Some College\"]=zip_data_df[\"Total Some College\"].astype(int)\n",
    "zip_data_df[\"Some College Rate\"]=zip_data_df[\"Some College Rate\"].astype(float)\n",
    "\n",
    "zip_data_df[\"Total College Degree\"]=zip_data_df[\"Total Some College\"].astype(int)\n",
    "zip_data_df[\"College Degree Rate\"]=zip_data_df[\"College Degree Rate\"].astype(float)\n",
    "\n",
    "\n",
    "zip_data_df[\"Total educational attainment over 25\"]=zip_data_df[\"Total educational attainment over 25\"].astype(float)\n",
    "\n",
    "zip_data_df[\"Never Married\"]=zip_data_df[\"Never Married\"].astype(int)\n",
    "zip_data_df[\"Never Married Rate\"]=zip_data_df[\"Never Married Rate\"].astype(float)\n",
    "\n",
    "\n",
    "zip_data_df[\"Married\"]=zip_data_df[\"Married\"].astype(int)\n",
    "zip_data_df[\"Married Rate\"]=zip_data_df[\"Married Rate\"].astype(float)\n",
    "\n",
    "\n",
    "zip_data_df[\"Widowed\"]=zip_data_df[\"Widowed\"].astype(int)\n",
    "zip_data_df[\"Widowed Rate\"]=zip_data_df[\"Widowed Rate\"].astype(float)\n",
    "\n",
    "zip_data_df[\"Divorced\"]=zip_data_df[\"Divorced\"].astype(int)\n",
    "zip_data_df[\"Divorced Rate\"]=zip_data_df[\"Divorced Rate\"].astype(float)\n"
   ]
  },
  {
   "cell_type": "code",
   "execution_count": 5,
   "metadata": {
    "scrolled": false
   },
   "outputs": [
    {
     "data": {
      "text/plain": [
       "Zip Code                                 object\n",
       "Population                              float64\n",
       "Median Age                               object\n",
       "Household Income                        float64\n",
       "Per Capita Income                        object\n",
       "Poverty Count                           float64\n",
       "Poverty Rate                             object\n",
       "Total No HS Diploma                       int32\n",
       "No High School Diploma Rate             float64\n",
       "Total HS Diploma                          int32\n",
       "HS Diploma Rate                         float64\n",
       "Total Some College                        int32\n",
       "Some College Rate                       float64\n",
       "Total College Degrees                    object\n",
       "College Degree Rate                     float64\n",
       "Total educational attainment over 25    float64\n",
       "Never Married                             int32\n",
       "Never Married Rate                      float64\n",
       "Married                                   int32\n",
       "Married Rate                            float64\n",
       "Widowed                                   int32\n",
       "Widowed Rate                            float64\n",
       "Divorced                                  int32\n",
       "Divorced Rate                           float64\n",
       "Over 15 Marital Status                   object\n",
       "lat                                      object\n",
       "lng                                      object\n",
       "city                                     object\n",
       "state_id                                 object\n",
       "state_name                               object\n",
       "Total College Degree                      int32\n",
       "dtype: object"
      ]
     },
     "execution_count": 5,
     "metadata": {},
     "output_type": "execute_result"
    }
   ],
   "source": [
    "zip_data_df.dtypes"
   ]
  },
  {
   "cell_type": "code",
   "execution_count": 6,
   "metadata": {},
   "outputs": [],
   "source": [
    "zip_data_df=zip_data_df.dropna()"
   ]
  },
  {
   "cell_type": "code",
   "execution_count": null,
   "metadata": {},
   "outputs": [],
   "source": []
  },
  {
   "cell_type": "code",
   "execution_count": 7,
   "metadata": {},
   "outputs": [],
   "source": [
    "import gmaps.geojson_geometries\n",
    "gmaps.configure(api_key=gkey)\n",
    "\n",
    "gmaps.geojson_geometries.list_geometries()\n",
    "['us-states',\n",
    "'us-counties',\n",
    "'countries-high-resolution']\n",
    "gmaps.geojson_geometries.geometry_metadata('us-states')\n",
    "USA_geojson = gmaps.geojson_geometries.load_geometry('us-states')\n",
    "\n",
    "fig = gmaps.figure()\n",
    "\n"
   ]
  },
  {
   "cell_type": "code",
   "execution_count": null,
   "metadata": {},
   "outputs": [],
   "source": []
  },
  {
   "cell_type": "code",
   "execution_count": 10,
   "metadata": {
    "scrolled": true
   },
   "outputs": [
    {
     "data": {
      "application/vnd.jupyter.widget-view+json": {
       "model_id": "96442b9ea3b14d748f7dc728b70474b3",
       "version_major": 2,
       "version_minor": 0
      },
      "text/plain": [
       "Figure(layout=FigureLayout(height='420px'))"
      ]
     },
     "metadata": {},
     "output_type": "display_data"
    }
   ],
   "source": [
    "locations = zip_data_df[[\"lat\",\"lng\"]].astype(float)\n",
    "\n",
    "# Convert to float and store\n",
    "\n",
    "locations = zip_data_df[[\"lat\",\"lng\"]].astype(float)\n",
    "poverty_rate= zip_data_df[\"Poverty Rate\"]\n",
    "income = zip_data_df[\"Household Income\"]\n",
    "No_HS= zip_data_df[\"No High School Diploma Rate\"]\n",
    "HS = zip_data_df[\"HS Diploma Rate\"]\n",
    "college = zip_data_df[\"College Degree Rate\"]\n",
    "\n",
    "\n",
    "heat_layer = gmaps.heatmap_layer(locations,weights=income,point_radius=5,max_intensity = 90)\n",
    "\n",
    "\n",
    "#Poverty Rate \n",
    "geojson_layer = gmaps.geojson_layer(USA_geojson,fill_opacity=.02)\n",
    "\n",
    "\n",
    "fig.add_layer(heat_layer)\n",
    "fig.add_layer(geojson_layer)\n",
    "fig"
   ]
  },
  {
   "cell_type": "code",
   "execution_count": 11,
   "metadata": {
    "scrolled": true
   },
   "outputs": [
    {
     "data": {
      "application/vnd.jupyter.widget-view+json": {
       "model_id": "96442b9ea3b14d748f7dc728b70474b3",
       "version_major": 2,
       "version_minor": 0
      },
      "text/plain": [
       "Figure(layout=FigureLayout(height='420px'))"
      ]
     },
     "metadata": {},
     "output_type": "display_data"
    }
   ],
   "source": [
    "#Income\n",
    "heat_layer1 = gmaps.heatmap_layer(locations,weights=income,point_radius = 10,max_intensity = 100)\n",
    "                              \n",
    "geojson_layer1 = gmaps.geojson_layer(USA_geojson,fill_opacity=0.02)\n",
    "fig.add_layer(geojson_layer1)\n",
    "fig.add_layer(heat_layer1)\n",
    "\n",
    "fig"
   ]
  },
  {
   "cell_type": "code",
   "execution_count": 10,
   "metadata": {},
   "outputs": [
    {
     "data": {
      "application/vnd.jupyter.widget-view+json": {
       "model_id": "98107e92614246bc937ea3a4a2bc139e",
       "version_major": 2,
       "version_minor": 0
      },
      "text/plain": [
       "Figure(layout=FigureLayout(height='420px'))"
      ]
     },
     "metadata": {},
     "output_type": "display_data"
    }
   ],
   "source": [
    "#No high school \n",
    "heat_layer2 = gmaps.heatmap_layer(locations,weights=No_HS ,point_radius = 1,max_intensity = 100)\n",
    "geojson_layer2 = gmaps.geojson_layer(USA_geojson,fill_opacity=0.02)\n",
    "\n",
    "fig.add_layer(heat_layer2)\n",
    "fig.add_layer(geojson_layer2)\n",
    "fig"
   ]
  },
  {
   "cell_type": "code",
   "execution_count": 11,
   "metadata": {},
   "outputs": [
    {
     "data": {
      "application/vnd.jupyter.widget-view+json": {
       "model_id": "98107e92614246bc937ea3a4a2bc139e",
       "version_major": 2,
       "version_minor": 0
      },
      "text/plain": [
       "Figure(layout=FigureLayout(height='420px'))"
      ]
     },
     "metadata": {},
     "output_type": "display_data"
    }
   ],
   "source": [
    "#HS Diploma \n",
    "heat_layer3 = gmaps.heatmap_layer(locations,weights=HS,point_radius=1,max_intensity = 100)\n",
    "geojson_layer3 = gmaps.geojson_layer(USA_geojson,fill_opacity=0.02)\n",
    "fig.add_layer(heat_layer3)\n",
    "fig.add_layer(geojson_layer3)\n",
    "fig"
   ]
  },
  {
   "cell_type": "code",
   "execution_count": 12,
   "metadata": {
    "scrolled": true
   },
   "outputs": [
    {
     "data": {
      "application/vnd.jupyter.widget-view+json": {
       "model_id": "98107e92614246bc937ea3a4a2bc139e",
       "version_major": 2,
       "version_minor": 0
      },
      "text/plain": [
       "Figure(layout=FigureLayout(height='420px'))"
      ]
     },
     "metadata": {},
     "output_type": "display_data"
    }
   ],
   "source": [
    "#college degree \n",
    "\n",
    "\n",
    "heat_layer4 = gmaps.heatmap_layer(locations,weights=college,point_radius = 5,max_intensity = 100)\n",
    "geojson_layer4 = gmaps.geojson_layer(USA_geojson,fill_opacity=0.02)\n",
    "fig.add_layer(heat_layer4)\n",
    "fig.add_layer(geojson_layer4)\n",
    "fig"
   ]
  },
  {
   "cell_type": "code",
   "execution_count": null,
   "metadata": {},
   "outputs": [],
   "source": []
  },
  {
   "cell_type": "code",
   "execution_count": null,
   "metadata": {},
   "outputs": [],
   "source": []
  },
  {
   "cell_type": "code",
   "execution_count": null,
   "metadata": {},
   "outputs": [],
   "source": [
    "\n"
   ]
  },
  {
   "cell_type": "code",
   "execution_count": null,
   "metadata": {},
   "outputs": [],
   "source": []
  },
  {
   "cell_type": "code",
   "execution_count": null,
   "metadata": {},
   "outputs": [],
   "source": [
    "\n",
    "\n"
   ]
  },
  {
   "cell_type": "code",
   "execution_count": null,
   "metadata": {},
   "outputs": [],
   "source": []
  }
 ],
 "metadata": {
  "kernelspec": {
   "display_name": "Python 3",
   "language": "python",
   "name": "python3"
  },
  "language_info": {
   "codemirror_mode": {
    "name": "ipython",
    "version": 3
   },
   "file_extension": ".py",
   "mimetype": "text/x-python",
   "name": "python",
   "nbconvert_exporter": "python",
   "pygments_lexer": "ipython3",
   "version": "3.7.3"
  }
 },
 "nbformat": 4,
 "nbformat_minor": 2
}
