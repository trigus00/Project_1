{
 "cells": [
  {
   "cell_type": "code",
   "execution_count": 1,
   "metadata": {},
   "outputs": [],
   "source": [
    "import pandas as pd\n",
    "from uszipcode import SearchEngine\n",
    "import pandas as pd\n",
    "import requests\n",
    "import json\n",
    "import pprint as pprint\n",
    "from tqdm import tqdm_notebook\n",
    "from config import gkey\n",
    "import gmaps\n",
    "import numpy as np\n",
    "import geopandas as gpd\n",
    "import matplotlib.pyplot as plt\n",
    "import geoplot as gplt\n",
    "import geoplot.crs as gcrs\n",
    "\n",
    "import geopandas as gpd"
   ]
  },
  {
   "cell_type": "code",
   "execution_count": null,
   "metadata": {},
   "outputs": [],
   "source": []
  },
  {
   "cell_type": "code",
   "execution_count": 2,
   "metadata": {
    "scrolled": true
   },
   "outputs": [],
   "source": [
    "zip_data = \"Project1_Zipcode_Data.csv\"\n",
    "zip_data_df = pd.read_csv(zip_data, dtype=str, low_memory=False)"
   ]
  },
  {
   "cell_type": "code",
   "execution_count": 3,
   "metadata": {},
   "outputs": [
    {
     "data": {
      "text/html": [
       "<div>\n",
       "<style scoped>\n",
       "    .dataframe tbody tr th:only-of-type {\n",
       "        vertical-align: middle;\n",
       "    }\n",
       "\n",
       "    .dataframe tbody tr th {\n",
       "        vertical-align: top;\n",
       "    }\n",
       "\n",
       "    .dataframe thead th {\n",
       "        text-align: right;\n",
       "    }\n",
       "</style>\n",
       "<table border=\"1\" class=\"dataframe\">\n",
       "  <thead>\n",
       "    <tr style=\"text-align: right;\">\n",
       "      <th></th>\n",
       "      <th>Zip Code</th>\n",
       "      <th>Population</th>\n",
       "      <th>Median Age</th>\n",
       "      <th>Household Income</th>\n",
       "      <th>Per Capita Income</th>\n",
       "      <th>Poverty Count</th>\n",
       "      <th>Poverty Rate</th>\n",
       "      <th>Total No HS Diploma</th>\n",
       "      <th>No High School Diploma Rate</th>\n",
       "      <th>Total HS Diploma</th>\n",
       "      <th>...</th>\n",
       "      <th>Widowed</th>\n",
       "      <th>Widowed Rate</th>\n",
       "      <th>Divorced</th>\n",
       "      <th>Divorced Rate</th>\n",
       "      <th>Over 15 Marital Status</th>\n",
       "      <th>lat</th>\n",
       "      <th>lng</th>\n",
       "      <th>city</th>\n",
       "      <th>state_id</th>\n",
       "      <th>state_name</th>\n",
       "    </tr>\n",
       "  </thead>\n",
       "  <tbody>\n",
       "    <tr>\n",
       "      <th>0</th>\n",
       "      <td>00601</td>\n",
       "      <td>17599.0</td>\n",
       "      <td>38.9</td>\n",
       "      <td>11757.0</td>\n",
       "      <td>7041.0</td>\n",
       "      <td>11282.0</td>\n",
       "      <td>64.105915108813</td>\n",
       "      <td>4288</td>\n",
       "      <td>36.12772769399275</td>\n",
       "      <td>2967</td>\n",
       "      <td>...</td>\n",
       "      <td>863</td>\n",
       "      <td>6.019390388505267</td>\n",
       "      <td>1999</td>\n",
       "      <td>13.942944828067239</td>\n",
       "      <td>14337.0</td>\n",
       "      <td>18.18004</td>\n",
       "      <td>-66.75218</td>\n",
       "      <td>Adjuntas</td>\n",
       "      <td>PR</td>\n",
       "      <td>Puerto Rico</td>\n",
       "    </tr>\n",
       "    <tr>\n",
       "      <th>1</th>\n",
       "      <td>00602</td>\n",
       "      <td>39209.0</td>\n",
       "      <td>40.9</td>\n",
       "      <td>16190.0</td>\n",
       "      <td>8978.0</td>\n",
       "      <td>20428.0</td>\n",
       "      <td>52.10028309826826</td>\n",
       "      <td>9407</td>\n",
       "      <td>34.17620345140781</td>\n",
       "      <td>6322</td>\n",
       "      <td>...</td>\n",
       "      <td>2136</td>\n",
       "      <td>6.47625977806076</td>\n",
       "      <td>4181</td>\n",
       "      <td>12.676611485052453</td>\n",
       "      <td>32982.0</td>\n",
       "      <td>18.36073</td>\n",
       "      <td>-67.17517</td>\n",
       "      <td>Aguada</td>\n",
       "      <td>PR</td>\n",
       "      <td>Puerto Rico</td>\n",
       "    </tr>\n",
       "    <tr>\n",
       "      <th>2</th>\n",
       "      <td>00603</td>\n",
       "      <td>50135.0</td>\n",
       "      <td>40.4</td>\n",
       "      <td>16645.0</td>\n",
       "      <td>10897.0</td>\n",
       "      <td>25176.0</td>\n",
       "      <td>50.21641567767029</td>\n",
       "      <td>10310</td>\n",
       "      <td>29.464719499299818</td>\n",
       "      <td>9657</td>\n",
       "      <td>...</td>\n",
       "      <td>3098</td>\n",
       "      <td>7.442106274622851</td>\n",
       "      <td>5945</td>\n",
       "      <td>14.281253002786586</td>\n",
       "      <td>41628.0</td>\n",
       "      <td>18.45439</td>\n",
       "      <td>-67.12202</td>\n",
       "      <td>Aguadilla</td>\n",
       "      <td>PR</td>\n",
       "      <td>Puerto Rico</td>\n",
       "    </tr>\n",
       "    <tr>\n",
       "      <th>3</th>\n",
       "      <td>00606</td>\n",
       "      <td>6304.0</td>\n",
       "      <td>42.8</td>\n",
       "      <td>13387.0</td>\n",
       "      <td>5960.0</td>\n",
       "      <td>4092.0</td>\n",
       "      <td>64.91116751269035</td>\n",
       "      <td>2147</td>\n",
       "      <td>49.40174873446848</td>\n",
       "      <td>1351</td>\n",
       "      <td>...</td>\n",
       "      <td>431</td>\n",
       "      <td>8.181473044798786</td>\n",
       "      <td>534</td>\n",
       "      <td>10.136674259681094</td>\n",
       "      <td>5268.0</td>\n",
       "      <td>18.16724</td>\n",
       "      <td>-66.93828</td>\n",
       "      <td>Maricao</td>\n",
       "      <td>PR</td>\n",
       "      <td>Puerto Rico</td>\n",
       "    </tr>\n",
       "    <tr>\n",
       "      <th>4</th>\n",
       "      <td>00610</td>\n",
       "      <td>27590.0</td>\n",
       "      <td>41.4</td>\n",
       "      <td>18741.0</td>\n",
       "      <td>9266.0</td>\n",
       "      <td>12553.0</td>\n",
       "      <td>45.498368974266036</td>\n",
       "      <td>6260</td>\n",
       "      <td>32.553302132085285</td>\n",
       "      <td>6032</td>\n",
       "      <td>...</td>\n",
       "      <td>1772</td>\n",
       "      <td>7.6733209197592345</td>\n",
       "      <td>2659</td>\n",
       "      <td>11.514311696184992</td>\n",
       "      <td>23093.0</td>\n",
       "      <td>18.29032</td>\n",
       "      <td>-67.12243</td>\n",
       "      <td>Anasco</td>\n",
       "      <td>PR</td>\n",
       "      <td>Puerto Rico</td>\n",
       "    </tr>\n",
       "  </tbody>\n",
       "</table>\n",
       "<p>5 rows × 30 columns</p>\n",
       "</div>"
      ],
      "text/plain": [
       "  Zip Code Population Median Age Household Income Per Capita Income  \\\n",
       "0    00601    17599.0       38.9          11757.0            7041.0   \n",
       "1    00602    39209.0       40.9          16190.0            8978.0   \n",
       "2    00603    50135.0       40.4          16645.0           10897.0   \n",
       "3    00606     6304.0       42.8          13387.0            5960.0   \n",
       "4    00610    27590.0       41.4          18741.0            9266.0   \n",
       "\n",
       "  Poverty Count        Poverty Rate Total No HS Diploma  \\\n",
       "0       11282.0     64.105915108813                4288   \n",
       "1       20428.0   52.10028309826826                9407   \n",
       "2       25176.0   50.21641567767029               10310   \n",
       "3        4092.0   64.91116751269035                2147   \n",
       "4       12553.0  45.498368974266036                6260   \n",
       "\n",
       "  No High School Diploma Rate Total HS Diploma  ... Widowed  \\\n",
       "0           36.12772769399275             2967  ...     863   \n",
       "1           34.17620345140781             6322  ...    2136   \n",
       "2          29.464719499299818             9657  ...    3098   \n",
       "3           49.40174873446848             1351  ...     431   \n",
       "4          32.553302132085285             6032  ...    1772   \n",
       "\n",
       "         Widowed Rate Divorced       Divorced Rate Over 15 Marital Status  \\\n",
       "0   6.019390388505267     1999  13.942944828067239                14337.0   \n",
       "1    6.47625977806076     4181  12.676611485052453                32982.0   \n",
       "2   7.442106274622851     5945  14.281253002786586                41628.0   \n",
       "3   8.181473044798786      534  10.136674259681094                 5268.0   \n",
       "4  7.6733209197592345     2659  11.514311696184992                23093.0   \n",
       "\n",
       "        lat        lng       city state_id   state_name  \n",
       "0  18.18004  -66.75218   Adjuntas       PR  Puerto Rico  \n",
       "1  18.36073  -67.17517     Aguada       PR  Puerto Rico  \n",
       "2  18.45439  -67.12202  Aguadilla       PR  Puerto Rico  \n",
       "3  18.16724  -66.93828    Maricao       PR  Puerto Rico  \n",
       "4  18.29032  -67.12243     Anasco       PR  Puerto Rico  \n",
       "\n",
       "[5 rows x 30 columns]"
      ]
     },
     "execution_count": 3,
     "metadata": {},
     "output_type": "execute_result"
    }
   ],
   "source": [
    "zip_data_df.head()"
   ]
  },
  {
   "cell_type": "code",
   "execution_count": 4,
   "metadata": {},
   "outputs": [],
   "source": [
    "zip_data_df[\"Household Income\"]=zip_data_df[\"Household Income\"].astype(float)\n",
    "\n",
    "zip_data_df[\"Population\"]=zip_data_df[\"Population\"].astype(float)\n",
    "zip_data_df[\"Poverty Count\"]=zip_data_df[\"Poverty Count\"].astype(float)\n",
    "\n",
    "zip_data_df[\"Total No HS Diploma\"]=zip_data_df[\"Total No HS Diploma\"].astype(int)\n",
    "zip_data_df[\"No High School Diploma Rate\"]=zip_data_df[\"No High School Diploma Rate\"].astype(float)\n",
    "\n",
    "zip_data_df[\"Total HS Diploma\"]=zip_data_df[\"Total No HS Diploma\"].astype(int)\n",
    "zip_data_df[\"HS Diploma Rate\"]=zip_data_df[\"HS Diploma Rate\"].astype(float)\n",
    "\n",
    "zip_data_df[\"Total Some College\"]=zip_data_df[\"Total Some College\"].astype(int)\n",
    "zip_data_df[\"Some College Rate\"]=zip_data_df[\"Some College Rate\"].astype(float)\n",
    "\n",
    "zip_data_df[\"Total College Degree\"]=zip_data_df[\"Total Some College\"].astype(int)\n",
    "zip_data_df[\"College Degree Rate\"]=zip_data_df[\"Some College Rate\"].astype(float)\n",
    "\n",
    "\n",
    "zip_data_df[\"Total educational attainment over 25\"]=zip_data_df[\"Total educational attainment over 25\"].astype(float)\n",
    "\n",
    "zip_data_df[\"Never Married\"]=zip_data_df[\"Never Married\"].astype(int)\n",
    "zip_data_df[\"Never Married Rate\"]=zip_data_df[\"Never Married Rate\"].astype(float)\n",
    "\n",
    "\n",
    "zip_data_df[\"Married\"]=zip_data_df[\"Married\"].astype(int)\n",
    "zip_data_df[\"Married Rate\"]=zip_data_df[\"Married Rate\"].astype(float)\n",
    "\n",
    "\n",
    "zip_data_df[\"Widowed\"]=zip_data_df[\"Widowed\"].astype(int)\n",
    "zip_data_df[\"Widowed Rate\"]=zip_data_df[\"Widowed Rate\"].astype(float)\n",
    "\n",
    "zip_data_df[\"Divorced\"]=zip_data_df[\"Divorced\"].astype(int)\n",
    "zip_data_df[\"Divorced Rate\"]=zip_data_df[\"Divorced Rate\"].astype(float)\n"
   ]
  },
  {
   "cell_type": "code",
   "execution_count": 5,
   "metadata": {
    "scrolled": true
   },
   "outputs": [
    {
     "data": {
      "text/plain": [
       "Zip Code                                 object\n",
       "Population                              float64\n",
       "Median Age                               object\n",
       "Household Income                        float64\n",
       "Per Capita Income                        object\n",
       "Poverty Count                           float64\n",
       "Poverty Rate                             object\n",
       "Total No HS Diploma                       int64\n",
       "No High School Diploma Rate             float64\n",
       "Total HS Diploma                          int64\n",
       "HS Diploma Rate                         float64\n",
       "Total Some College                        int64\n",
       "Some College Rate                       float64\n",
       "Total College Degrees                    object\n",
       "College Degree Rate                     float64\n",
       "Total educational attainment over 25    float64\n",
       "Never Married                             int64\n",
       "Never Married Rate                      float64\n",
       "Married                                   int64\n",
       "Married Rate                            float64\n",
       "Widowed                                   int64\n",
       "Widowed Rate                            float64\n",
       "Divorced                                  int64\n",
       "Divorced Rate                           float64\n",
       "Over 15 Marital Status                   object\n",
       "lat                                      object\n",
       "lng                                      object\n",
       "city                                     object\n",
       "state_id                                 object\n",
       "state_name                               object\n",
       "Total College Degree                      int64\n",
       "dtype: object"
      ]
     },
     "execution_count": 5,
     "metadata": {},
     "output_type": "execute_result"
    }
   ],
   "source": [
    "zip_data_df.dtypes"
   ]
  },
  {
   "cell_type": "code",
   "execution_count": 6,
   "metadata": {},
   "outputs": [],
   "source": [
    "zip_data_df=zip_data_df.dropna()"
   ]
  },
  {
   "cell_type": "code",
   "execution_count": null,
   "metadata": {},
   "outputs": [],
   "source": []
  },
  {
   "cell_type": "code",
   "execution_count": 7,
   "metadata": {},
   "outputs": [],
   "source": [
    "import gmaps.geojson_geometries\n",
    "gmaps.configure(api_key=gkey)\n",
    "\n",
    "gmaps.geojson_geometries.list_geometries()\n",
    "['us-states',\n",
    "'us-counties',\n",
    "'countries-high-resolution']\n",
    "gmaps.geojson_geometries.geometry_metadata('us-states')\n",
    "USA_geojson = gmaps.geojson_geometries.load_geometry('us-states')\n",
    "\n",
    "fig = gmaps.figure()\n",
    "\n",
    "#geojson_layer = gmaps.geojson_layer(USA_geojson,fill_opacity=0.02)\n",
    "#fig.add_layer(geojson_layer)\n",
    "#fig"
   ]
  },
  {
   "cell_type": "code",
   "execution_count": null,
   "metadata": {},
   "outputs": [],
   "source": []
  },
  {
   "cell_type": "code",
   "execution_count": 8,
   "metadata": {
    "scrolled": true
   },
   "outputs": [
    {
     "data": {
      "application/vnd.jupyter.widget-view+json": {
       "model_id": "c7c8a4b305f54e708a2951f61f8d5cf1",
       "version_major": 2,
       "version_minor": 0
      },
      "text/plain": [
       "Figure(layout=FigureLayout(height='420px'))"
      ]
     },
     "metadata": {},
     "output_type": "display_data"
    }
   ],
   "source": [
    "locations = zip_data_df[[\"lat\",\"lng\"]].astype(float)\n",
    "\n",
    "# Convert to float and store\n",
    "\n",
    "locations = zip_data_df[[\"lat\",\"lng\"]].astype(float)\n",
    "poverty_rate= zip_data_df[\"Poverty Rate\"]\n",
    "income = zip_data_df[\"Per Capita Income\"]\n",
    "No_HS= zip_data_df[\"No High School Diploma Rate\"]\n",
    "HS = zip_data_df[\"HS Diploma Rate\"]\n",
    "college = zip_data_df[\"College Degree Rate \"]\n",
    "\n",
    "\n",
    "heat_layer = gmaps.heatmap_layer(locations,weights=poverty_rate,point_radius=5,max_intensity = 100)\n",
    "\n",
    "\n",
    "#Poverty Rate \n",
    "geojson_layer = gmaps.geojson_layer(USA_geojson,fill_opacity=0.02)\n",
    "\n",
    "\n",
    "fig.add_layer(heat_layer)\n",
    "fig.add_layer(geojson_layer)\n",
    "fig"
   ]
  },
  {
   "cell_type": "code",
   "execution_count": 9,
   "metadata": {
    "scrolled": true
   },
   "outputs": [
    {
     "data": {
      "application/vnd.jupyter.widget-view+json": {
       "model_id": "c7c8a4b305f54e708a2951f61f8d5cf1",
       "version_major": 2,
       "version_minor": 0
      },
      "text/plain": [
       "Figure(layout=FigureLayout(height='420px'))"
      ]
     },
     "metadata": {},
     "output_type": "display_data"
    }
   ],
   "source": [
    "#Income\n",
    "heat_layer1 = gmaps.heatmap_layer(locations,weights=income,point_radius = 1,max_intensity = 100)\n",
    "                              \n",
    "geojson_layer1 = gmaps.geojson_layer(USA_geojson,fill_opacity=0.02)\n",
    "fig.add_layer(geojson_layer1)\n",
    "fig.add_layer(heat_layer1)\n",
    "\n",
    "fig"
   ]
  },
  {
   "cell_type": "code",
   "execution_count": 10,
   "metadata": {},
   "outputs": [
    {
     "data": {
      "application/vnd.jupyter.widget-view+json": {
       "model_id": "c7c8a4b305f54e708a2951f61f8d5cf1",
       "version_major": 2,
       "version_minor": 0
      },
      "text/plain": [
       "Figure(layout=FigureLayout(height='420px'))"
      ]
     },
     "metadata": {},
     "output_type": "display_data"
    }
   ],
   "source": [
    "#No high school \n",
    "heat_layer2 = gmaps.heatmap_layer(locations,weights=No_HS ,point_radius = 1,max_intensity = 100)\n",
    "geojson_layer2 = gmaps.geojson_layer(USA_geojson,fill_opacity=0.02)\n",
    "\n",
    "fig.add_layer(heat_layer2)\n",
    "fig.add_layer(geojson_layer2)\n",
    "fig"
   ]
  },
  {
   "cell_type": "code",
   "execution_count": 13,
   "metadata": {},
   "outputs": [
    {
     "data": {
      "application/vnd.jupyter.widget-view+json": {
       "model_id": "c7c8a4b305f54e708a2951f61f8d5cf1",
       "version_major": 2,
       "version_minor": 0
      },
      "text/plain": [
       "Figure(layout=FigureLayout(height='420px'))"
      ]
     },
     "metadata": {},
     "output_type": "display_data"
    }
   ],
   "source": [
    "#HS Diploma \n",
    "heat_layer3 = gmaps.heatmap_layer(locations,weights=HS,point_radius=4,max_intensity = 100, dissipating = True)\n",
    "geojson_layer3 = gmaps.geojson_layer(USA_geojson,fill_opacity=0.02)\n",
    "fig.add_layer(heat_layer3)\n",
    "fig.add_layer(geojson_layer3)\n",
    "fig"
   ]
  },
  {
   "cell_type": "code",
   "execution_count": 12,
   "metadata": {
    "scrolled": true
   },
   "outputs": [
    {
     "data": {
      "application/vnd.jupyter.widget-view+json": {
       "model_id": "c7c8a4b305f54e708a2951f61f8d5cf1",
       "version_major": 2,
       "version_minor": 0
      },
      "text/plain": [
       "Figure(layout=FigureLayout(height='420px'))"
      ]
     },
     "metadata": {},
     "output_type": "display_data"
    }
   ],
   "source": [
    "#college degree \n",
    "\n",
    "\n",
    "heat_layer4 = gmaps.heatmap_layer(locations,weights=college,point_radius = 5,max_intensity = 100)\n",
    "geojson_layer4 = gmaps.geojson_layer(USA_geojson,fill_opacity=0.02)\n",
    "fig.add_layer(heat_layer4)\n",
    "fig.add_layer(geojson_layer4)\n",
    "fig"
   ]
  },
  {
   "cell_type": "code",
   "execution_count": null,
   "metadata": {},
   "outputs": [],
   "source": []
  },
  {
   "cell_type": "code",
   "execution_count": null,
   "metadata": {},
   "outputs": [],
   "source": []
  },
  {
   "cell_type": "code",
   "execution_count": null,
   "metadata": {},
   "outputs": [],
   "source": [
    "\n"
   ]
  },
  {
   "cell_type": "code",
   "execution_count": null,
   "metadata": {},
   "outputs": [],
   "source": []
  },
  {
   "cell_type": "code",
   "execution_count": null,
   "metadata": {},
   "outputs": [],
   "source": [
    "\n",
    "\n"
   ]
  },
  {
   "cell_type": "code",
   "execution_count": null,
   "metadata": {},
   "outputs": [],
   "source": []
  }
 ],
 "metadata": {
  "kernelspec": {
   "display_name": "Python 3",
   "language": "python",
   "name": "python3"
  },
  "language_info": {
   "codemirror_mode": {
    "name": "ipython",
    "version": 3
   },
   "file_extension": ".py",
   "mimetype": "text/x-python",
   "name": "python",
   "nbconvert_exporter": "python",
   "pygments_lexer": "ipython3",
   "version": "3.7.3"
  }
 },
 "nbformat": 4,
 "nbformat_minor": 2
}
