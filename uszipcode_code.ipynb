{
 "cells": [
  {
   "cell_type": "code",
   "execution_count": 1,
   "metadata": {},
   "outputs": [],
   "source": [
    "from uszipcode import SearchEngine\n",
    "import pandas as pd\n",
    "import requests\n",
    "import json\n",
    "import pprint as pprint\n",
    "from tqdm import tqdm_notebook"
   ]
  },
  {
   "cell_type": "code",
   "execution_count": 2,
   "metadata": {},
   "outputs": [],
   "source": [
    "search = SearchEngine(simple_zipcode=False)\n",
    "result = search.by_zipcode('77406')\n",
    "test3 = result.to_dict()\n"
   ]
  },
  {
   "cell_type": "code",
   "execution_count": null,
   "metadata": {},
   "outputs": [],
   "source": []
  },
  {
   "cell_type": "code",
   "execution_count": null,
   "metadata": {},
   "outputs": [],
   "source": []
  },
  {
   "cell_type": "code",
   "execution_count": 28,
   "metadata": {},
   "outputs": [
    {
     "data": {
      "text/plain": [
       "list"
      ]
     },
     "execution_count": 28,
     "metadata": {},
     "output_type": "execute_result"
    }
   ],
   "source": [
    "type(test3['educational_attainment_for_population_25_and_over'])"
   ]
  },
  {
   "cell_type": "code",
   "execution_count": 29,
   "metadata": {},
   "outputs": [],
   "source": [
    "data = test3['educational_attainment_for_population_25_and_over']"
   ]
  },
  {
   "cell_type": "code",
   "execution_count": 30,
   "metadata": {
    "scrolled": false
   },
   "outputs": [
    {
     "data": {
      "text/plain": [
       "[{'key': 'Data',\n",
       "  'values': [{'x': 'Less Than High School Diploma', 'y': 1577},\n",
       "   {'x': 'High School Graduate', 'y': 10530},\n",
       "   {'x': \"Associate's Degree\", 'y': 1903},\n",
       "   {'x': \"Bachelor's Degree\", 'y': 6928},\n",
       "   {'x': \"Master's Degree\", 'y': 2269},\n",
       "   {'x': 'Professional School Degree', 'y': 460},\n",
       "   {'x': 'Doctorate Degree', 'y': 253}]}]"
      ]
     },
     "execution_count": 30,
     "metadata": {},
     "output_type": "execute_result"
    }
   ],
   "source": [
    "data"
   ]
  },
  {
   "cell_type": "code",
   "execution_count": 31,
   "metadata": {},
   "outputs": [
    {
     "data": {
      "text/plain": [
       "list"
      ]
     },
     "execution_count": 31,
     "metadata": {},
     "output_type": "execute_result"
    }
   ],
   "source": [
    "type(data)"
   ]
  },
  {
   "cell_type": "code",
   "execution_count": null,
   "metadata": {},
   "outputs": [],
   "source": []
  },
  {
   "cell_type": "code",
   "execution_count": null,
   "metadata": {},
   "outputs": [],
   "source": []
  },
  {
   "cell_type": "code",
   "execution_count": null,
   "metadata": {},
   "outputs": [],
   "source": []
  },
  {
   "cell_type": "code",
   "execution_count": null,
   "metadata": {},
   "outputs": [],
   "source": []
  },
  {
   "cell_type": "code",
   "execution_count": null,
   "metadata": {},
   "outputs": [],
   "source": [
    "data"
   ]
  },
  {
   "cell_type": "code",
   "execution_count": null,
   "metadata": {},
   "outputs": [],
   "source": [
    "NewDict = {}  # Initialize a new dictionary\n",
    "for listItem in data:\n",
    "\tfor key, value in listItem.items():  # Loop through all dictionary elements in the list\n",
    "\t\tif key in list(NewDict):  # if the key already exists, append to new\n",
    "\t\t\tfor entry in value:\n",
    "\t\t\t\tNewDict[key].append(entry)\n",
    "\t\telse:  # if it's a new key, simply add to the new dictionary\n",
    "\t\t\tNewDict[key] = value\n",
    "df = pd.DataFrame.from_dict(NewDict)  # Finally, create the DataFrame from the dictionary\n",
    "print(df)"
   ]
  },
  {
   "cell_type": "code",
   "execution_count": null,
   "metadata": {},
   "outputs": [],
   "source": []
  },
  {
   "cell_type": "code",
   "execution_count": null,
   "metadata": {},
   "outputs": [],
   "source": []
  },
  {
   "cell_type": "code",
   "execution_count": null,
   "metadata": {},
   "outputs": [],
   "source": [
    "Project1_Data = \"Project1_Data.csv\"\n",
    "Project1_Data_df = pd.read_csv(Project1_Data, dtype=str, low_memory=False)"
   ]
  },
  {
   "cell_type": "code",
   "execution_count": null,
   "metadata": {},
   "outputs": [],
   "source": [
    "zipcode = Project1_Data_df['Zip Code']"
   ]
  },
  {
   "cell_type": "code",
   "execution_count": null,
   "metadata": {},
   "outputs": [],
   "source": [
    "zipcode_df = pd.DataFrame(zipcode)"
   ]
  },
  {
   "cell_type": "code",
   "execution_count": null,
   "metadata": {},
   "outputs": [],
   "source": [
    "zipcode_df.head()"
   ]
  },
  {
   "cell_type": "code",
   "execution_count": null,
   "metadata": {},
   "outputs": [],
   "source": [
    "zipcode_df['City'] = ''\n",
    "zipcode_df['Lat'] = ''\n",
    "zipcode_df['Lng'] = ''\n",
    "zipcode_df['Median Income'] = ''\n",
    "zipcode_df['Population'] = ''"
   ]
  },
  {
   "cell_type": "code",
   "execution_count": null,
   "metadata": {},
   "outputs": [],
   "source": [
    "zipcode_df.head()"
   ]
  },
  {
   "cell_type": "code",
   "execution_count": null,
   "metadata": {},
   "outputs": [],
   "source": [
    "search = SearchEngine(simple_zipcode=False)\n",
    "for index, row in tqdm_notebook(list(zipcode_df.iterrows())):\n",
    "#for zipcode in tqdm_notebook(zipcode):\n",
    "    zipc = row['Zip Code'] \n",
    "    result = search.by_zipcode(zipc)\n",
    "    grab = result.to_dict()\n",
    "    zipcode_df.loc[index, 'City'] = grab['major_city']\n",
    "    zipcode_df.loc[index, 'Lng'] = grab['lng']\n",
    "    zipcode_df.loc[index, 'Lat'] = grab['lat']\n",
    "    zipcode_df.loc[index, 'Median Income'] = grab['median_household_income']\n",
    "    zipcode_df.loc[index, 'Population'] = grab['population']"
   ]
  },
  {
   "cell_type": "code",
   "execution_count": null,
   "metadata": {},
   "outputs": [],
   "source": [
    "zipcode_df"
   ]
  },
  {
   "cell_type": "code",
   "execution_count": null,
   "metadata": {},
   "outputs": [],
   "source": []
  }
 ],
 "metadata": {
  "kernelspec": {
   "display_name": "Python 3",
   "language": "python",
   "name": "python3"
  },
  "language_info": {
   "codemirror_mode": {
    "name": "ipython",
    "version": 3
   },
   "file_extension": ".py",
   "mimetype": "text/x-python",
   "name": "python",
   "nbconvert_exporter": "python",
   "pygments_lexer": "ipython3",
   "version": "3.7.3"
  }
 },
 "nbformat": 4,
 "nbformat_minor": 2
}
